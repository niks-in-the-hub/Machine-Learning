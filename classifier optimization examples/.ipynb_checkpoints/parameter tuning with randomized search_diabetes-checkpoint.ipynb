{
 "cells": [
  {
   "cell_type": "code",
   "execution_count": 1,
   "metadata": {},
   "outputs": [],
   "source": [
    "#loading libraries\n",
    "\n",
    "from scipy.stats import uniform\n",
    "from sklearn import linear_model, datasets\n",
    "from sklearn.model_selection import RandomizedSearchCV"
   ]
  },
  {
   "cell_type": "code",
   "execution_count": 2,
   "metadata": {},
   "outputs": [],
   "source": [
    "#importing diabetes feature vectors from scikit\n",
    "\n",
    "db=datasets.load_diabetes()\n",
    "X=db.data\n",
    "y=db.target"
   ]
  },
  {
   "cell_type": "code",
   "execution_count": 3,
   "metadata": {},
   "outputs": [],
   "source": [
    "#initializing a logistic regression classifier\n",
    "\n",
    "logistic=linear_model.LogisticRegression()"
   ]
  },
  {
   "cell_type": "code",
   "execution_count": 4,
   "metadata": {},
   "outputs": [],
   "source": [
    "#creating regularization penalty space. Regularization essentially selects a simplified hypothesis from the\n",
    "#decision boundary proposed by the classifier.\n",
    "penalty=['l1','l2']\n",
    "\n",
    "C=uniform(loc=0, scale=4)\n",
    "\n",
    "hyperparameters=dict(C=C, penalty=penalty)"
   ]
  },
  {
   "cell_type": "code",
   "execution_count": 5,
   "metadata": {},
   "outputs": [],
   "source": [
    "#creating randomized search 5-fold cross validation and 100 iterations\n",
    "clf=RandomizedSearchCV(logistic, hyperparameters, random_state=1, n_iter=100, cv=5, verbose=0, n_jobs=-1)"
   ]
  },
  {
   "cell_type": "code",
   "execution_count": 6,
   "metadata": {},
   "outputs": [
    {
     "name": "stderr",
     "output_type": "stream",
     "text": [
      "C:\\Users\\Nikkitha\\Anaconda3\\lib\\site-packages\\sklearn\\model_selection\\_split.py:652: Warning: The least populated class in y has only 1 members, which is too few. The minimum number of members in any class cannot be less than n_splits=5.\n",
      "  % (min_groups, self.n_splits)), Warning)\n",
      "C:\\Users\\Nikkitha\\Anaconda3\\lib\\site-packages\\sklearn\\model_selection\\_search.py:841: DeprecationWarning: The default of the `iid` parameter will change from True to False in version 0.22 and will be removed in 0.24. This will change numeric results when test-set sizes are unequal.\n",
      "  DeprecationWarning)\n",
      "C:\\Users\\Nikkitha\\Anaconda3\\lib\\site-packages\\sklearn\\linear_model\\logistic.py:433: FutureWarning: Default solver will be changed to 'lbfgs' in 0.22. Specify a solver to silence this warning.\n",
      "  FutureWarning)\n",
      "C:\\Users\\Nikkitha\\Anaconda3\\lib\\site-packages\\sklearn\\linear_model\\logistic.py:460: FutureWarning: Default multi_class will be changed to 'auto' in 0.22. Specify the multi_class option to silence this warning.\n",
      "  \"this warning.\", FutureWarning)\n"
     ]
    }
   ],
   "source": [
    "#fitting randomized search\n",
    "best_model=clf.fit(X,y)"
   ]
  },
  {
   "cell_type": "code",
   "execution_count": 7,
   "metadata": {},
   "outputs": [
    {
     "name": "stdout",
     "output_type": "stream",
     "text": [
      "Best Penalty: l2\n",
      "Best C: 3.730229437354635\n"
     ]
    }
   ],
   "source": [
    "#display the optimal hyperparameters\n",
    "print('Best Penalty:', best_model.best_estimator_.get_params()['penalty'])\n",
    "print('Best C:',best_model.best_estimator_.get_params()['C'])"
   ]
  },
  {
   "cell_type": "code",
   "execution_count": 8,
   "metadata": {},
   "outputs": [
    {
     "data": {
      "text/plain": [
       "array([178.,  72., 178., 200.,  72.,  72.,  72.,  72., 200., 200.,  72.,\n",
       "       200.,  72., 200.,  72., 200., 200., 178., 200.,  72.,  72.,  72.,\n",
       "       200., 220., 200., 200.,  72., 200.,  72., 178., 200.,  72., 178.,\n",
       "        72.,  72.,  72., 200.,  72., 220., 200., 200.,  72., 200.,  72.,\n",
       "       178.,  72.,  72.,  72.,  72., 200.,  72., 178., 200., 200., 200.,\n",
       "        72., 200.,  72.,  72.,  72.,  72., 200.,  72.,  72.,  72., 200.,\n",
       "       200.,  72.,  72.,  72.,  72., 200.,  72.,  72., 200.,  72.,  71.,\n",
       "        72.,  72.,  72.,  72.,  72.,  72.,  72.,  72.,  72.,  72.,  72.,\n",
       "        72.,  72.,  72., 200., 200.,  72.,  72.,  72., 178., 200.,  72.,\n",
       "        72.,  72.,  72., 200., 200., 200.,  72.,  72., 200., 178., 178.,\n",
       "        72.,  72., 200., 178., 281., 200., 178., 281., 200.,  72., 200.,\n",
       "       200., 220., 220., 200., 200.,  72.,  72.,  72., 200., 200.,  72.,\n",
       "        72.,  72.,  72., 200.,  72., 200., 178., 200., 178., 200., 200.,\n",
       "        72., 200., 200., 200., 200., 200., 200., 200.,  72., 200.,  72.,\n",
       "        72., 200.,  72., 200.,  72., 200.,  72., 220., 200., 200.,  72.,\n",
       "        72.,  72., 281., 220., 200.,  72.,  72., 220.,  72.,  71.,  72.,\n",
       "       200., 200.,  72., 200., 200.,  72., 200., 178., 200., 200., 200.,\n",
       "        72.,  72.,  72., 200.,  72.,  72., 200., 200., 200.,  72., 178.,\n",
       "       200.,  72.,  72.,  72., 220., 200., 178., 200., 200., 200., 200.,\n",
       "       178.,  72.,  72.,  72.,  72.,  72., 178., 220., 200.,  72.,  72.,\n",
       "        72.,  72., 200.,  72.,  72., 178.,  72.,  72.,  72.,  72., 220.,\n",
       "        72., 200.,  72., 200., 178., 200.,  72., 178., 200., 178.,  72.,\n",
       "        72.,  72., 200.,  72.,  72.,  72., 220., 200., 281., 220., 200.,\n",
       "       200., 220.,  72., 200.,  72., 178., 200.,  72.,  72., 200.,  72.,\n",
       "       200., 200.,  72.,  72., 178.,  72., 200., 178.,  72., 220., 200.,\n",
       "       200., 200.,  72.,  72.,  72., 200.,  72.,  72.,  72.,  71., 200.,\n",
       "        72.,  72.,  72., 200., 178., 200.,  72., 200.,  72., 200.,  72.,\n",
       "        72.,  72.,  72., 200.,  72., 200., 200., 200., 200.,  72., 178.,\n",
       "        72., 200., 200., 200.,  72., 178., 200.,  72., 178., 200.,  72.,\n",
       "        72., 200., 220., 220., 220., 200., 200., 200., 200., 200.,  72.,\n",
       "       200.,  72., 281., 178.,  72.,  72., 220., 178.,  72.,  72., 200.,\n",
       "       200., 178., 200., 200.,  72., 220.,  72.,  72.,  71., 178.,  72.,\n",
       "        72., 200., 220., 200.,  72., 200.,  72., 178., 200.,  72., 178.,\n",
       "       200., 200., 200., 220., 200., 200., 200.,  72., 178.,  72., 200.,\n",
       "        72., 200., 200., 200., 200.,  72., 200.,  72., 200.,  72.,  72.,\n",
       "        71.,  72.,  72., 178.,  72., 178.,  72., 200.,  72., 281., 200.,\n",
       "        72.,  72.,  72., 178., 200.,  72., 178., 200., 200., 178.,  72.,\n",
       "       200., 200., 200., 200.,  72., 200.,  72., 220., 200., 200., 200.,\n",
       "        72.,  72., 200., 200., 200., 200., 200.,  72., 200., 200., 220.,\n",
       "        72.,  72.,  72., 200.,  72.,  72.,  72.,  72., 178., 200.,  72.,\n",
       "       200.,  72.])"
      ]
     },
     "execution_count": 8,
     "metadata": {},
     "output_type": "execute_result"
    }
   ],
   "source": [
    "#inference using optimised logistic regression classifier\n",
    "best_model.predict(X)"
   ]
  },
  {
   "cell_type": "code",
   "execution_count": null,
   "metadata": {},
   "outputs": [],
   "source": []
  }
 ],
 "metadata": {
  "kernelspec": {
   "display_name": "Python 3",
   "language": "python",
   "name": "python3"
  },
  "language_info": {
   "codemirror_mode": {
    "name": "ipython",
    "version": 3
   },
   "file_extension": ".py",
   "mimetype": "text/x-python",
   "name": "python",
   "nbconvert_exporter": "python",
   "pygments_lexer": "ipython3",
   "version": "3.7.3"
  }
 },
 "nbformat": 4,
 "nbformat_minor": 2
}
